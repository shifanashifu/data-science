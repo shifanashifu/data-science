{
 "cells": [
  {
   "cell_type": "code",
   "execution_count": 1,
   "id": "35ebcec3",
   "metadata": {},
   "outputs": [
    {
     "name": "stdout",
     "output_type": "stream",
     "text": [
      "Enter the radius : 3\n",
      "Area of the circle  is: 28.274333882308138\n"
     ]
    }
   ],
   "source": [
    "from math import pi\n",
    "r = float(input (\"Enter the radius : \"))\n",
    "print (\"Area of the circle \" \" is: \" + str(pi * r**2))"
   ]
  },
  {
   "cell_type": "code",
   "execution_count": 2,
   "id": "6354cd54",
   "metadata": {},
   "outputs": [
    {
     "name": "stdout",
     "output_type": "stream",
     "text": [
      "Enter the name: Anisha\n",
      "Enter the roll number: 21\n",
      "Enter the mark: 78\n"
     ]
    }
   ],
   "source": [
    "name = input(\"Enter the name: \")\n",
    "r = int (input(\"Enter the roll number: \"))\n",
    "m1 = int (input(\"Enter the mark: \"))"
   ]
  },
  {
   "cell_type": "code",
   "execution_count": 3,
   "id": "d615dd96",
   "metadata": {},
   "outputs": [
    {
     "name": "stdout",
     "output_type": "stream",
     "text": [
      "Enter the start number: 1\n",
      "Enter the end number: 10\n",
      "Current Number 1 Previous Number 0 Sum: 1\n",
      "Current Number 2 Previous Number 1 Sum: 3\n",
      "Current Number 3 Previous Number 2 Sum: 5\n",
      "Current Number 4 Previous Number 3 Sum: 7\n",
      "Current Number 5 Previous Number 4 Sum: 9\n",
      "Current Number 6 Previous Number 5 Sum: 11\n",
      "Current Number 7 Previous Number 6 Sum: 13\n",
      "Current Number 8 Previous Number 7 Sum: 15\n",
      "Current Number 9 Previous Number 8 Sum: 17\n",
      "Current Number 10 Previous Number 9 Sum: 19\n"
     ]
    }
   ],
   "source": [
    "def print_sum_of_current_and_previous(start, end):\n",
    "    previous = 0\n",
    "    for current in range(start, end + 1):\n",
    "        print(f\"Current Number {current} Previous Number {previous} Sum: {current + previous}\")\n",
    "        previous = current\n",
    "\n",
    "if __name__ == \"__main__\":\n",
    "    try:\n",
    "        start = int(input(\"Enter the start number: \"))\n",
    "        end = int(input(\"Enter the end number: \"))\n",
    "        print_sum_of_current_and_previous(start, end)\n",
    "    except ValueError:\n",
    "        print(\"Invalid input. Please enter valid integer numbers.\")"
   ]
  },
  {
   "cell_type": "code",
   "execution_count": 4,
   "id": "b5adb4d4",
   "metadata": {},
   "outputs": [
    {
     "name": "stdout",
     "output_type": "stream",
     "text": [
      "Enter a list of numbers separated by commas: 10,20,33,46,55\n",
      "Sample output: 10, 20, 55\n"
     ]
    }
   ],
   "source": [
    "def print_divisible_by_5(numbers_list):\n",
    "    divisible_by_5 = [num for num in numbers_list if num % 5 == 0]\n",
    "    print(\", \".join(map(str, divisible_by_5)))\n",
    "\n",
    "if __name__ == \"__main__\":\n",
    "    try:\n",
    "        input_numbers = input(\"Enter a list of numbers separated by commas: \")\n",
    "        numbers_list = [int(num) for num in input_numbers.split(\",\")]\n",
    "        print(\"Sample output:\", end=\" \")\n",
    "        print_divisible_by_5(numbers_list)\n",
    "    except ValueError:\n",
    "        print(\"Invalid input. Please enter a valid list of numbers separated by commas.\")"
   ]
  },
  {
   "cell_type": "code",
   "execution_count": 5,
   "id": "354faac0",
   "metadata": {},
   "outputs": [
    {
     "name": "stdout",
     "output_type": "stream",
     "text": [
      "Enter the number: 3\n",
      "3 is a prime number\n"
     ]
    }
   ],
   "source": [
    "def is_prime(n):\n",
    "    if n <= 1:\n",
    "        return False\n",
    "    if n <= 3:\n",
    "        return True\n",
    "    if n % 2 == 0 or n % 3 == 0:\n",
    "        return False\n",
    "\n",
    "    i = 5\n",
    "    while i * i <= n:\n",
    "        if n % i == 0 or n % (i + 2) == 0:\n",
    "            return False\n",
    "        i += 6\n",
    "\n",
    "    return True\n",
    "\n",
    "def main():\n",
    "    try:\n",
    "        number = int(input(\"Enter the number: \"))\n",
    "        if is_prime(number):\n",
    "            print(f\"{number} is a prime number\")\n",
    "        else:\n",
    "            print(f\"{number} is not a prime number\")\n",
    "    except ValueError:\n",
    "        print(\"Invalid input. Please enter a valid integer.\")\n",
    "\n",
    "if __name__ == \"__main__\":\n",
    "    main()"
   ]
  },
  {
   "cell_type": "code",
   "execution_count": 6,
   "id": "5d529e98",
   "metadata": {},
   "outputs": [
    {
     "name": "stdout",
     "output_type": "stream",
     "text": [
      "Enter a list of comma-separated values: 10,40,30,70\n",
      "Reversed list: 70,30,40,10\n"
     ]
    }
   ],
   "source": [
    "def reverse_list(input_list):\n",
    "    reversed_list = []\n",
    "    for item in input_list:\n",
    "        reversed_list.insert(0, item)\n",
    "    return reversed_list\n",
    "def main():\n",
    "    try:\n",
    "        input_str = input(\"Enter a list of comma-separated values: \")\n",
    "        input_list = [int(item) for item in input_str.split(\",\")]\n",
    "        reversed_list = reverse_list(input_list)\n",
    "        reversed_str = \",\".join(str(item) for item in reversed_list)\n",
    "        print(\"Reversed list:\", reversed_str)\n",
    "    except ValueError:\n",
    "        print(\"Invalid input. Please enter a valid list of comma-separated integers.\")\n",
    "\n",
    "if __name__ == \"__main__\":\n",
    "    main()"
   ]
  },
  {
   "cell_type": "code",
   "execution_count": 7,
   "id": "ccd2fe05",
   "metadata": {},
   "outputs": [
    {
     "name": "stdout",
     "output_type": "stream",
     "text": [
      "*\n",
      "**\n",
      "***\n",
      "****\n"
     ]
    }
   ],
   "source": [
    "n = 4\n",
    "for i in range(0, n):\n",
    "\tfor j in range(0, i+1):\n",
    "\t\tprint(\"*\", end=\"\")\n",
    "\tprint()"
   ]
  },
  {
   "cell_type": "code",
   "execution_count": 8,
   "id": "8321ee5d",
   "metadata": {},
   "outputs": [
    {
     "name": "stdout",
     "output_type": "stream",
     "text": [
      "34\n"
     ]
    }
   ],
   "source": [
    "def maximum(a, b, c):\n",
    "    list = [a, b, c]\n",
    "    return max(list)\n",
    "\n",
    "\n",
    "# Driven code\n",
    "a = 34\n",
    "b = 12\n",
    "c = 7\n",
    "print(maximum(a, b, c))"
   ]
  },
  {
   "cell_type": "code",
   "execution_count": 9,
   "id": "e78b240e",
   "metadata": {},
   "outputs": [
    {
     "name": "stdout",
     "output_type": "stream",
     "text": [
      "\n",
      "*\n",
      "**\n",
      "***\n",
      "****\n",
      "*****\n",
      "****\n",
      "***\n",
      "**\n",
      "*\n"
     ]
    }
   ],
   "source": [
    "n=5;\n",
    "for i in range(n):\n",
    "    for j in range(i):\n",
    "        print ('*', end=\"\")\n",
    "    print('')\n",
    "\n",
    "for i in range(n,0,-1):\n",
    "    for j in range(i):\n",
    "        print('*', end=\"\")\n",
    "    print('')"
   ]
  },
  {
   "cell_type": "code",
   "execution_count": 10,
   "id": "ee568f55",
   "metadata": {},
   "outputs": [
    {
     "name": "stdout",
     "output_type": "stream",
     "text": [
      "Enter a list of numbers separated by commas: 12,3,47,10\n",
      "47 is the largest number.\n"
     ]
    }
   ],
   "source": [
    "def get_largest_number(numbers_list):\n",
    "    if not numbers_list:\n",
    "        raise ValueError(\"The list is empty.\")\n",
    "    largest = numbers_list[0]\n",
    "    for number in numbers_list:\n",
    "        if number > largest:\n",
    "            largest = number\n",
    "    return largest\n",
    "\n",
    "if __name__ == \"__main__\":\n",
    "    try:\n",
    "        input_numbers = input(\"Enter a list of numbers separated by commas: \")\n",
    "        numbers_list = [int(num) for num in input_numbers.split(\",\")]\n",
    "        largest_number = get_largest_number(numbers_list)\n",
    "        print(f\"{largest_number} is the largest number.\")\n",
    "    except ValueError:\n",
    "        print(\"Invalid input. Please enter a valid list of numbers separated by commas.\")"
   ]
  }
 ],
 "metadata": {
  "kernelspec": {
   "display_name": "Python 3 (ipykernel)",
   "language": "python",
   "name": "python3"
  },
  "language_info": {
   "codemirror_mode": {
    "name": "ipython",
    "version": 3
   },
   "file_extension": ".py",
   "mimetype": "text/x-python",
   "name": "python",
   "nbconvert_exporter": "python",
   "pygments_lexer": "ipython3",
   "version": "3.11.3"
  }
 },
 "nbformat": 4,
 "nbformat_minor": 5
}
